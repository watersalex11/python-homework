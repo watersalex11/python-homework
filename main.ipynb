{
 "cells": [
  {
   "cell_type": "code",
   "execution_count": 72,
   "metadata": {},
   "outputs": [],
   "source": [
    "#open file, csv and create path\n",
    "from pathlib import Path\n",
    "import csv\n",
    "#filename = \"budget_data.csv\"\n",
    "csvpath = Path('PyBank/Resources/budget_data.csv')\n",
    "#PyBank/Resources/budget_data.csv"
   ]
  },
  {
   "cell_type": "code",
   "execution_count": 93,
   "metadata": {},
   "outputs": [],
   "source": [
    "new_data = []\n",
    "row_count = 0\n",
    "total_months = 0\n",
    "profit_or_loss = 0\n",
    "max_profit = 0\n",
    "max_loss = 0\n",
    "p_l = []\n",
    "with open(csvpath, 'r') as csvfile:\n",
    "    csvreader =csv.reader(csvfile, delimiter=',')\n",
    "    csv_header = next(csvreader)\n",
    "#   \n",
    "    for row in csvreader:\n",
    "        row_count += 1\n",
    "        pl = int(row[1])\n",
    "        profit_or_loss += pl\n",
    "        p_l.append(pl)\n",
    "total_months = row_count\n",
    "new_data.append(total_months)\n",
    "# The total number of months included in the dataset.\n",
    "#print(f'The total amount of months in data set is: {total_months} months.')"
   ]
  },
  {
   "cell_type": "code",
   "execution_count": 81,
   "metadata": {},
   "outputs": [],
   "source": [
    "#The net total amount of Profit/Losses over the entire period.\n",
    "#print(f'The profit/losses over entire period is: {profit_or_loss}')"
   ]
  },
  {
   "cell_type": "code",
   "execution_count": 94,
   "metadata": {},
   "outputs": [
    {
     "name": "stdout",
     "output_type": "stream",
     "text": [
      "[116771, -662642, -391430, 379920, 212354, 510239, -428211, -821271, 693918, 416278, -974163, 860159, -1115009, 1033048, 95318, -308093, 99052, -521393, 605450, 231727, -65187, -702716, 177975, -1065544, 1926159, -917805, 898730, -334262, -246499, -64055, -1529236, 1497596, 304914, -635801, 398319, -183161, -37864, -253689, 403655, 94168, 306877, -83000, 210462, -2196167, 1465222, -956983, 1838447, -468003, -64602, 206242, -242155, -449079, 315198, 241099, 111540, 365942, -219310, -368665, 409837, 151210, -110244, -341938, -1212159, 683246, -70825, 335594, 417334, -272194, -236462, 657432, -211262, -128237, -1750387, 925441, 932089, -311434, 267252, -1876758, 1733696, 198551, -665765, 693229, -734926, 77242, 532869]\n",
      "\n"
     ]
    }
   ],
   "source": [
    "#The average of the changes in Profit/Losses over the entire period. \n",
    "deltas = []\n",
    "p_l = []\n",
    "count = 0\n",
    "y = 1\n",
    "x = 0\n",
    "with open(csvpath, 'r') as csvfile:\n",
    "    csvreader =csv.reader(csvfile, delimiter=',')\n",
    "    csv_header = next(csvreader)\n",
    "#create a list of the p&l numbers\n",
    "    for row in csvreader:\n",
    "        pl = int(row[1])\n",
    "        p_l.append(pl)\n",
    "#calculate the delta and save to a new list       \n",
    "for x in p_l:\n",
    "    if count >= 1:\n",
    "        count +=1\n",
    "        a = p_l[y] - p_l[y-1]\n",
    "        deltas.append(a)\n",
    "        y += 1\n",
    "    else:\n",
    "        count += 1\n",
    "print(deltas)\n",
    "print()\n",
    "#total all deltas and divide by the number\n",
    "new_count = 0\n",
    "final_x = 0\n",
    "for x in deltas:\n",
    "    new_count += 1\n",
    "    final_x +=x\n",
    "\n",
    "ave_change_p_l = final_x/new_count\n",
    "new_data.append(round(ave_change_p_l,2))\n",
    "#print(f\"Average Change: $ {round(ave_change_p_l,2)}\")           \n"
   ]
  },
  {
   "cell_type": "code",
   "execution_count": 95,
   "metadata": {},
   "outputs": [],
   "source": [
    "# The greatest increase in profits (date and amount) over the entire period.\n",
    "data = []\n",
    "with open(csvpath, 'r') as csvfile:\n",
    "    csvreader =csv.reader(csvfile, delimiter=',')\n",
    "    csv_header = next(csvreader)\n",
    "#create a list of the p&l numbers\n",
    "    for x in csvreader:\n",
    "        data.append(x)\n",
    "        \n",
    "        \n",
    "new_gain = 0\n",
    "new_loss = 0\n",
    "total_count = 0\n",
    "for x in deltas:\n",
    "    if (x > 0) and (x > new_gain):\n",
    "        new_gain = x\n",
    "        \n",
    "    elif (x < 0) and  (x < new_loss):\n",
    "        new_loss = x\n",
    "       \n",
    "gain = int(deltas.index(new_gain)) + 1\n",
    "loss = int(deltas.index(new_loss)) + 1\n",
    "date_of_loss = data[loss][0]\n",
    "date_of_gain = data[gain][0]\n",
    "\n",
    "new_data.append(date_of_gain)\n",
    "new_data.append(new_gain)\n",
    "new_data.append(date_of_loss)\n",
    "new_data.append(new_loss)\n",
    "\n",
    "\n",
    "#print(f\"Greatest Decrease in Profits: {date_of_loss} (${new_loss})\")\n",
    "#print(f\"Greatest Increase in Profits: {date_of_gain} (${new_gain})\")"
   ]
  },
  {
   "cell_type": "code",
   "execution_count": 90,
   "metadata": {},
   "outputs": [
    {
     "name": "stdout",
     "output_type": "stream",
     "text": [
      "Financial Analysis\n",
      "------------------------------------------\n",
      "Total months in data set is: 86 months.\n",
      "The profit/losses over entire period is: 38382578\n",
      "Average Change: $ -2315.12\n",
      "Greatest Decrease in Profits: Sep-2013 ($-2196167)\n",
      "Greatest Increase in Profits: Feb-2012 ($1926159)\n",
      "```\n"
     ]
    }
   ],
   "source": [
    "print('Financial Analysis')\n",
    "print('------------------------------------------')\n",
    "print(f'Total months in data set is: {total_months} months.')\n",
    "print(f'The profit/losses over entire period is: {profit_or_loss}')\n",
    "print(f\"Average Change: $ {round(ave_change_p_l,2)}\")\n",
    "print(f\"Greatest Decrease in Profits: {date_of_loss} (${new_loss})\")\n",
    "print(f\"Greatest Increase in Profits: {date_of_gain} (${new_gain})\")\n",
    "print('```')"
   ]
  },
  {
   "cell_type": "code",
   "execution_count": 100,
   "metadata": {},
   "outputs": [
    {
     "name": "stdout",
     "output_type": "stream",
     "text": [
      "[86, -2315.12, 'Feb-2012', 1926159, 'Sep-2013', -2196167]\n",
      "Feb-2012\n"
     ]
    }
   ],
   "source": [
    "\n",
    "header = ['total months','total P/l', 'ave change', 'date of gain', 'increase in profits', 'increase in profits']\n",
    "analysis = Path('analysis.csv')\n",
    "with open(analysis, 'w') as csvfile:\n",
    "    csvwriter = csv.writer(csvfile, delimiter=',')\n",
    "    csvwriter.writerow(header)\n",
    "    csvwriter.writerow(new_data)\n",
    "    "
   ]
  },
  {
   "cell_type": "code",
   "execution_count": null,
   "metadata": {},
   "outputs": [],
   "source": [
    "pybank.ipynb"
   ]
  },
  {
   "cell_type": "code",
   "execution_count": null,
   "metadata": {},
   "outputs": [],
   "source": []
  },
  {
   "cell_type": "code",
   "execution_count": null,
   "metadata": {},
   "outputs": [],
   "source": []
  },
  {
   "cell_type": "code",
   "execution_count": null,
   "metadata": {},
   "outputs": [],
   "source": []
  },
  {
   "cell_type": "code",
   "execution_count": null,
   "metadata": {},
   "outputs": [],
   "source": []
  }
 ],
 "metadata": {
  "kernelspec": {
   "display_name": "Python 3",
   "language": "python",
   "name": "python3"
  },
  "language_info": {
   "codemirror_mode": {
    "name": "ipython",
    "version": 3
   },
   "file_extension": ".py",
   "mimetype": "text/x-python",
   "name": "python",
   "nbconvert_exporter": "python",
   "pygments_lexer": "ipython3",
   "version": "3.8.2"
  }
 },
 "nbformat": 4,
 "nbformat_minor": 4
}
